{
 "cells": [
  {
   "cell_type": "code",
   "execution_count": 4,
   "metadata": {},
   "outputs": [],
   "source": [
    "# import required modules\n",
    "\n",
    "from bs4 import BeautifulSoup\n",
    "import requests\n",
    "from pprint import pprint"
   ]
  },
  {
   "cell_type": "code",
   "execution_count": 9,
   "metadata": {},
   "outputs": [],
   "source": [
    "# take the url and make a BeautifulSoup object\n",
    "\n",
    "url = \"https://www.payscale.com/college-salary-report/majors-that-pay-you-back/bachelors\"\n",
    "\n",
    "response = requests.get(url)\n",
    "# response.raise_for_status\n",
    "# <bound method Response.raise_for_status of <Response [200]>>\n",
    "soup = BeautifulSoup(response.text, \"html.parser\")"
   ]
  },
  {
   "cell_type": "code",
   "execution_count": 35,
   "metadata": {},
   "outputs": [
    {
     "name": "stdout",
     "output_type": "stream",
     "text": [
      "['Rank', 'Major', 'Degree Type', 'Early Career Pay', 'Mid-Career Pay', '% High Meaning']\n"
     ]
    }
   ],
   "source": [
    "# get the headers as the first column\n",
    "headers = [i.text for i in soup.find_all(class_=\"data-table__header\")]\n",
    "print(headers)"
   ]
  },
  {
   "cell_type": "code",
   "execution_count": 17,
   "metadata": {},
   "outputs": [],
   "source": [
    "# define an empty list for each column\n",
    "rank, major, degree_type, early_pay, mid_pay, high_meaning = ([] for i in range (6))\n",
    "# or... make a list of lists, or dict of dicts\n",
    "\"\"\"list = [[1, \"petrol eng\", \"bachelors\", \"$93,200\", \"$187,300\", \"%67\"],[2,...]]\n",
    "\"\"\"\n",
    "\n",
    "\"\"\" dict = {\n",
    "    1: {\n",
    "        major: \"Petrol Eng.\",\n",
    "        degree_type: \"bachelors\",\n",
    "        early_pay: \"$93,200\",\n",
    "        mid_pay: \"$187,300\",\n",
    "        migh_meaning: \"%67\"\n",
    "    },\n",
    "    2:{\n",
    "        .\n",
    "        .\n",
    "        .\n",
    "    }\n",
    "}\"\"\"\n",
    "\n",
    "\n",
    "\n",
    "\n",
    "\n",
    "# figure out how to fill each column with required info\n",
    "all_rows = soup.find_all(class_=\"data-table__row\")\n",
    "first_row = row[0]\n",
    "\n",
    "\n"
   ]
  },
  {
   "cell_type": "code",
   "execution_count": 34,
   "metadata": {},
   "outputs": [
    {
     "name": "stdout",
     "output_type": "stream",
     "text": [
      "['1', 'Petroleum Engineering', 'Bachelors', '$93,200', '$187,300', '67%']\n"
     ]
    }
   ],
   "source": [
    "# write a function for each row to fill correspondingly\n",
    "# go 1: list of lists\n",
    "# pprint(first_row.find_all(class_=\"data-table__value\"))  # gives intended result\n",
    "\n",
    "def make_row(row: list) -> list:\n",
    "    \"\"\" returns each cell's text as strings in a list \"\"\"\n",
    "    return [i.text for i in row.find_all(class_=\"data-table__value\")]\n",
    "\n",
    "first_info = [i.text for i in first_row.find_all(class_=\"data-table__value\")]\n",
    "print(first_info)\n"
   ]
  },
  {
   "cell_type": "code",
   "execution_count": 11,
   "metadata": {},
   "outputs": [],
   "source": [
    "# fill each column with required info"
   ]
  },
  {
   "cell_type": "code",
   "execution_count": null,
   "metadata": {},
   "outputs": [],
   "source": [
    "# make a csv file that fits the example"
   ]
  }
 ],
 "metadata": {
  "interpreter": {
   "hash": "aecd030d4c8316a52bf122072e28f84bcc79844c2684e041fef2e3f1d9f59078"
  },
  "kernelspec": {
   "display_name": "Python 3.10.0 64-bit",
   "language": "python",
   "name": "python3"
  },
  "language_info": {
   "codemirror_mode": {
    "name": "ipython",
    "version": 3
   },
   "file_extension": ".py",
   "mimetype": "text/x-python",
   "name": "python",
   "nbconvert_exporter": "python",
   "pygments_lexer": "ipython3",
   "version": "3.10.0"
  },
  "orig_nbformat": 4
 },
 "nbformat": 4,
 "nbformat_minor": 2
}
