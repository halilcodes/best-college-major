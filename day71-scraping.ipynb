{
 "cells": [
  {
   "cell_type": "code",
   "execution_count": 69,
   "metadata": {},
   "outputs": [],
   "source": [
    "# import required modules\n",
    "\n",
    "from bs4 import BeautifulSoup\n",
    "import requests\n",
    "from pprint import pprint\n",
    "import csv"
   ]
  },
  {
   "cell_type": "code",
   "execution_count": 9,
   "metadata": {},
   "outputs": [],
   "source": [
    "# take the url and make a BeautifulSoup object\n",
    "\n",
    "url = \"https://www.payscale.com/college-salary-report/majors-that-pay-you-back/bachelors\"\n",
    "\n",
    "response = requests.get(url)\n",
    "# response.raise_for_status\n",
    "# <bound method Response.raise_for_status of <Response [200]>>\n",
    "soup = BeautifulSoup(response.text, \"html.parser\")"
   ]
  },
  {
   "cell_type": "code",
   "execution_count": 35,
   "metadata": {},
   "outputs": [
    {
     "name": "stdout",
     "output_type": "stream",
     "text": [
      "['Rank', 'Major', 'Degree Type', 'Early Career Pay', 'Mid-Career Pay', '% High Meaning']\n"
     ]
    }
   ],
   "source": [
    "# get the headers as the first column\n",
    "headers = [i.text for i in soup.find_all(class_=\"data-table__header\")]\n",
    "print(headers)"
   ]
  },
  {
   "cell_type": "code",
   "execution_count": 17,
   "metadata": {},
   "outputs": [],
   "source": [
    "# make a list of lists, or dict of dicts\n",
    "\"\"\"list = [[1, \"petrol eng\", \"bachelors\", \"$93,200\", \"$187,300\", \"%67\"],[2,...]]\n",
    "\"\"\"\n",
    "\n",
    "\"\"\" dict = {\n",
    "    1: {\n",
    "        major: \"Petrol Eng.\",\n",
    "        degree_type: \"bachelors\",\n",
    "        early_pay: \"$93,200\",\n",
    "        mid_pay: \"$187,300\",\n",
    "        migh_meaning: \"%67\"\n",
    "    },\n",
    "    2:{\n",
    "        .\n",
    "        .\n",
    "        .\n",
    "    }\n",
    "}\"\"\"\n",
    "\n",
    "\n",
    "# figure out how to fill each column with required info\n",
    "all_rows = soup.find_all(class_=\"data-table__row\")\n",
    "first_row = all_rows[0]\n"
   ]
  },
  {
   "cell_type": "code",
   "execution_count": 34,
   "metadata": {},
   "outputs": [
    {
     "name": "stdout",
     "output_type": "stream",
     "text": [
      "['1', 'Petroleum Engineering', 'Bachelors', '$93,200', '$187,300', '67%']\n"
     ]
    }
   ],
   "source": [
    "# write a function for each row to fill correspondingly\n",
    "\n",
    "# go 1: list of lists\n",
    "# pprint(first_row.find_all(class_=\"data-table__value\"))  # gives intended result\n",
    "\n",
    "def make_row(row: list) -> list:\n",
    "    \"\"\" returns each cell's text as strings in a list \"\"\"\n",
    "    return [i.text for i in row.find_all(class_=\"data-table__value\")]\n",
    "\n",
    "first_info = [i.text for i in first_row.find_all(class_=\"data-table__value\")]\n",
    "print(first_info)\n"
   ]
  },
  {
   "cell_type": "code",
   "execution_count": 49,
   "metadata": {},
   "outputs": [
    {
     "name": "stdout",
     "output_type": "stream",
     "text": [
      "26\n"
     ]
    }
   ],
   "source": [
    "# write a function that takes an entire page and make a list of lists filled with info\n",
    "\n",
    "def all_page_row(all_rows: list) -> list:\n",
    "    \"\"\"takes a list filled with soup objects for each page... \n",
    "    class_=\"data-table__row\" must be defined before passing through the function!!! \"\"\"\n",
    "    return [make_row(each_row) for each_row in all_rows]\n",
    "\n",
    "\n",
    "# build the first page of the database\n",
    "database = [headers] + all_page_row(all_rows)\n",
    "\n",
    "print(len(database))\n",
    "\n",
    "    "
   ]
  },
  {
   "cell_type": "code",
   "execution_count": 57,
   "metadata": {},
   "outputs": [
    {
     "name": "stdout",
     "output_type": "stream",
     "text": [
      "101\n"
     ]
    }
   ],
   "source": [
    "# first page done...\n",
    "# write a script that goes through all pages with try..except\n",
    "\n",
    "\n",
    "for i in range(2,5):\n",
    "    next_url = f\"https://www.payscale.com/college-salary-report/majors-that-pay-you-back/bachelors/page/{i}\"\n",
    "    response = requests.get(next_url)\n",
    "\n",
    "    if \"200\" in str(response.raise_for_status):\n",
    "        soup = BeautifulSoup(response.text, \"html.parser\")\n",
    "        current_rows = soup.find_all(class_=\"data-table__row\")\n",
    "        database += all_page_row(current_rows)\n",
    "\n",
    "print(len(database))\n",
    "\n"
   ]
  },
  {
   "cell_type": "code",
   "execution_count": 70,
   "metadata": {},
   "outputs": [],
   "source": [
    "# make a csv file that fits the example\n",
    "# pprint(database)\n",
    "\n",
    "with open(\"salaries_updated.csv\", \"w\") as df:\n",
    "    writer = csv.writer(df)\n",
    "    writer.writerows(database)"
   ]
  }
 ],
 "metadata": {
  "interpreter": {
   "hash": "aecd030d4c8316a52bf122072e28f84bcc79844c2684e041fef2e3f1d9f59078"
  },
  "kernelspec": {
   "display_name": "Python 3.10.0 64-bit",
   "language": "python",
   "name": "python3"
  },
  "language_info": {
   "codemirror_mode": {
    "name": "ipython",
    "version": 3
   },
   "file_extension": ".py",
   "mimetype": "text/x-python",
   "name": "python",
   "nbconvert_exporter": "python",
   "pygments_lexer": "ipython3",
   "version": "3.10.0"
  },
  "orig_nbformat": 4
 },
 "nbformat": 4,
 "nbformat_minor": 2
}
